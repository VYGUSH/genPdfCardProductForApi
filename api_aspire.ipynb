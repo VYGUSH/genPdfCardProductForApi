{
 "cells": [
  {
   "cell_type": "code",
   "execution_count": null,
   "metadata": {},
   "outputs": [],
   "source": [
    "# Для конструктора HTML\n",
    "from jinja2 import Template"
   ]
  },
  {
   "cell_type": "code",
   "execution_count": null,
   "metadata": {},
   "outputs": [],
   "source": [
    "import json"
   ]
  },
  {
   "cell_type": "code",
   "execution_count": null,
   "metadata": {},
   "outputs": [],
   "source": [
    "# Библиотека по работе с API Aspire\n",
    "import api_aspire as asp"
   ]
  },
  {
   "cell_type": "code",
   "execution_count": null,
   "metadata": {},
   "outputs": [],
   "source": [
    "# Библиотека для конвертации html в pdf\n",
    "from weasyprint import HTML"
   ]
  },
  {
   "cell_type": "code",
   "execution_count": null,
   "metadata": {},
   "outputs": [],
   "source": [
    "# Конвертирование из html в pdf\n",
    "def html_to_pdf(html, pdf_path):\n",
    "    HTML(string=html).write_pdf(pdf_path)\n",
    "# Конвертирование из url в pdf\n",
    "def url_to_pdf(url, pdf_path):\n",
    "    HTML(url).write_pdf(pdf_path)"
   ]
  },
  {
   "cell_type": "code",
   "execution_count": null,
   "metadata": {},
   "outputs": [],
   "source": [
    "# Ответ из API по методу \"Категории\"\n",
    "response_infoblocks = asp.requests_aspire('list_block')\n",
    "# Данные по всем элементам в формате json\n",
    "response_json_infoblocks = response_infoblocks.json()\n",
    "infoblocks = dict()\n",
    "for i in response_json_infoblocks:\n",
    "    infoblocks[i] = response_json_infoblocks.get(i).get('name')\n",
    "infoblocks"
   ]
  },
  {
   "cell_type": "code",
   "execution_count": null,
   "metadata": {},
   "outputs": [],
   "source": [
    "# Ответ из API по методу \"Категории\"\n",
    "response_category = asp.requests_aspire('categories', id_block='')\n",
    "# Данные по всем элементам в формате json\n",
    "response_json_category = response_category.json()\n",
    "categories = dict()\n",
    "for i in response_json_category:\n",
    "    categories[i] = response_json_category.get(i).get('name')\n",
    "categories"
   ]
  },
  {
   "cell_type": "code",
   "execution_count": null,
   "metadata": {},
   "outputs": [],
   "source": [
    "# Ответ из API по методу \"Все элементы\"\n",
    "response_elements = asp.requests_aspire('list_element', id_block=5)\n",
    "# Данные по всем элементам в формате json\n",
    "response_json_elements = response_elements.json()\n",
    "len(response_json_elements)"
   ]
  },
  {
   "cell_type": "code",
   "execution_count": null,
   "metadata": {},
   "outputs": [],
   "source": [
    "# Ответ из API по методу \"Все элементы\"\n",
    "response_elements = asp.requests_aspire('search', id_block=5, id_category=18)\n",
    "# Данные по всем элементам в формате json\n",
    "response_json_elements = response_elements.json()\n",
    "len(response_json_elements)"
   ]
  },
  {
   "cell_type": "code",
   "execution_count": null,
   "metadata": {},
   "outputs": [],
   "source": [
    "# Пример данных из API\n",
    "test_data_json = response_json_elements[list(response_json_elements.keys())[0]]\n",
    "test_data_json"
   ]
  },
  {
   "cell_type": "code",
   "execution_count": null,
   "metadata": {},
   "outputs": [],
   "source": [
    "# Функция убивающая переносы в описании оффера\n",
    "def split_tag(value):\n",
    "    return (value\n",
    "            .split('<span style=\"color: #f5f5f5;\">')[0]\n",
    "            .replace('\\r\\n', '')\n",
    "            .replace('\\t', '')\n",
    "            .replace('<p>', '')\n",
    "            .replace('</p>', '')\n",
    "            .replace('<br>', '')\n",
    "            .replace('<br />', '')\n",
    "            .replace('\\n', '')\n",
    "            .replace('<div>', ''))"
   ]
  },
  {
   "cell_type": "code",
   "execution_count": null,
   "metadata": {},
   "outputs": [],
   "source": [
    "# Соответствие названий ключей из API c понятным названием по методу \"Все элементы\"\n",
    "with open('info_keys.json') as fk:\n",
    "    info_keys = json.load(fk)"
   ]
  },
  {
   "cell_type": "code",
   "execution_count": null,
   "metadata": {},
   "outputs": [],
   "source": [
    "# Шаблон html для последующей подстановки переменных\n",
    "htmk_block = open('html_block.html', 'r').read()"
   ]
  },
  {
   "cell_type": "code",
   "execution_count": null,
   "metadata": {},
   "outputs": [],
   "source": [
    "# Тестовая генерация html на основе тестового json из APi\n",
    "tm = Template(htmk_block)\n",
    "msg = tm.render(json_=test_data_json,\n",
    "                infoblocks= infoblocks,\n",
    "                categories= categories,\n",
    "                bool= bool,\n",
    "                list= list,\n",
    "                split_tag=split_tag)\n",
    "                "
   ]
  },
  {
   "cell_type": "code",
   "execution_count": null,
   "metadata": {},
   "outputs": [],
   "source": [
    "# Тестовая конвертация из HTML в PDF\n",
    "output_path = '/Users/vyg/Downloads/Карточки Aspire/test_custom_html.pdf'\n",
    "html_to_pdf(msg, output_path)"
   ]
  },
  {
   "cell_type": "code",
   "execution_count": null,
   "metadata": {},
   "outputs": [],
   "source": [
    "# Берем поочередно все офферы и записываем в PDF, каждая категория в отдельный файл\n",
    "for categ in list(categories.values()):\n",
    "#for categ in ['Рестораны']:\n",
    "    msg = '' # HTML блок\n",
    "    part = 0 # Счетчик итераций записи файла\n",
    "    ch = 0 # Счетчик подходящих оферов для отщелкивания итерации\n",
    "    # Берем каждый элемент (оффер)\n",
    "    for el_id in response_json_elements:\n",
    "        json = response_json_elements[el_id]\n",
    "        name_offer = json.get('name')\n",
    "        category_offer = categories.get(json.get('category'))\n",
    "        # Сверяем относится ли оффер к итерируемой категории\n",
    "        if category_offer == categ:\n",
    "            tm = Template(htmk_block)\n",
    "            # Собираем html с переменными из json оффера (Элемента)\n",
    "            msg += tm.render(json_=json,\n",
    "                            infoblocks= infoblocks,\n",
    "                            categories= categories,\n",
    "                            bool= bool,\n",
    "                            list= list,\n",
    "                            split_tag= split_tag)\n",
    "            block_offer = infoblocks.get(json.get('iblock'))\n",
    "            # Считаем сколько отработали офферов\n",
    "            ch += 1\n",
    "            # Записываем 500 офферов в файл, чтобы не было исключения от переполнения\n",
    "            if ch > 500:\n",
    "                html_to_pdf(msg, f'/Users/vyg/Downloads/Карточки Aspire/{block_offer}/{categ} {part}.pdf')\n",
    "                msg = ''\n",
    "                part += 1\n",
    "                ch = 0\n",
    "    # Записываем оставшиеся офферы\n",
    "    html_to_pdf(msg, f'/Users/vyg/Downloads/Карточки Aspire/{block_offer}/{categ} {part}.pdf')"
   ]
  }
 ],
 "metadata": {
  "kernelspec": {
   "display_name": "Python 3",
   "language": "python",
   "name": "python3"
  },
  "language_info": {
   "codemirror_mode": {
    "name": "ipython",
    "version": 3
   },
   "file_extension": ".py",
   "mimetype": "text/x-python",
   "name": "python",
   "nbconvert_exporter": "python",
   "pygments_lexer": "ipython3",
   "version": "3.12.3"
  }
 },
 "nbformat": 4,
 "nbformat_minor": 2
}
